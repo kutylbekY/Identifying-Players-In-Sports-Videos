{
 "cells": [
  {
   "cell_type": "code",
   "execution_count": 108,
   "metadata": {},
   "outputs": [],
   "source": [
    "import os\n",
    "import cv2\n",
    "import torch\n",
    "import numpy as np\n",
    "import torch.optim as optim\n",
    "import torch.nn.functional as F\n",
    "import torch.nn as nn\n",
    "from torch.utils.data import Dataset\n",
    "\n",
    "# from roboflow import Roboflow\n",
    "# rf = Roboflow(api_key=\"qNiuOYka1Vr6TV3WENNV\")\n",
    "# project = rf.workspace(\"the-university-of-manchester-8ax5n\").project(\"football-player-detection-demo\")\n",
    "# dataset = project.version(1).download(\"yolov5\")"
   ]
  },
  {
   "cell_type": "code",
   "execution_count": 109,
   "metadata": {},
   "outputs": [],
   "source": [
    "class PlayerTrackingModel(nn.Module):\n",
    "    def __init__(self, input_channels, num_classes):\n",
    "        super(PlayerTrackingModel, self).__init__()\n",
    "        # Define your model architecture here\n",
    "        self.conv1 = nn.Conv2d(input_channels, 64, 3, padding=1)\n",
    "        self.fc1 = nn.Linear(64 * 224 * 224, num_classes)  # Adjust the input size as needed\n",
    "\n",
    "    def forward(self, x):\n",
    "        x = F.relu(self.conv1(x))\n",
    "        x = x.view(x.size(0), -1)\n",
    "        x = self.fc1(x)\n",
    "        return x\n"
   ]
  },
  {
   "cell_type": "code",
   "execution_count": 110,
   "metadata": {},
   "outputs": [],
   "source": [
    "class CustomObjectDetectionDataset(Dataset):\n",
    "    def __init__(self, data_dir, split='train', transform=None):\n",
    "        self.data_dir = data_dir\n",
    "        self.image_dir = os.path.join(self.data_dir, 'images')\n",
    "        self.label_dir = os.path.join(self.data_dir, 'labels')\n",
    "\n",
    "        self.image_files = sorted([file for file in os.listdir(self.image_dir) if file.endswith('.jpg')])\n",
    "        self.transform = transform\n",
    "        self.class_ids = set()  # Create a set to store unique class IDs\n",
    "\n",
    "    def __len__(self):\n",
    "        return len(self.image_files)\n",
    "\n",
    "    def __getitem__(self, idx):\n",
    "        image_name = self.image_files[idx]\n",
    "        image_path = os.path.join(self.image_dir, image_name)\n",
    "        label_path = os.path.join(self.label_dir, image_name.replace('.jpg', '.txt'))\n",
    "\n",
    "        image = cv2.imread(image_path)\n",
    "        labels = self.load_labels(label_path)\n",
    "\n",
    "        if self.transform is not None:\n",
    "            image = self.transform(image)\n",
    "\n",
    "        return image, labels\n",
    "\n",
    "    def load_labels(self, label_path):\n",
    "        labels = []\n",
    "        with open(label_path, 'r') as file:\n",
    "            lines = file.read().splitlines()\n",
    "            for line in lines:\n",
    "                values = line.split()\n",
    "                if len(values) == 5:\n",
    "                    class_id = int(values[0])  # Extract the class ID as an integer\n",
    "                    x_min, y_min, width, height = map(float, values[1:])\n",
    "                    x_max = x_min + width\n",
    "                    y_max = y_min + height\n",
    "                    labels.append([x_min, y_min, x_max, y_max, class_id])\n",
    "                    self.class_ids.add(class_id)  # Add the class ID to the set\n",
    "        return torch.tensor(labels, dtype=torch.float32)\n",
    "\n",
    "\n",
    "    def get_num_classes(self):\n",
    "        return len(self.class_ids)"
   ]
  },
  {
   "cell_type": "code",
   "execution_count": 111,
   "metadata": {},
   "outputs": [],
   "source": [
    "def preprocess_frame(frame, target_size=(224, 224)):\n",
    "    # Resize the frame to the target size\n",
    "    frame = cv2.resize(frame, target_size)\n",
    "    \n",
    "    # Normalize the pixel values to the range [0, 1]\n",
    "    frame = frame.astype(np.float32) / 255.0\n",
    "    \n",
    "    return frame"
   ]
  },
  {
   "cell_type": "code",
   "execution_count": 112,
   "metadata": {},
   "outputs": [
    {
     "name": "stdout",
     "output_type": "stream",
     "text": [
      "PlayerTrackingModel(\n",
      "  (conv1): Conv2d(3, 64, kernel_size=(3, 3), stride=(1, 1), padding=(1, 1))\n",
      "  (fc1): Linear(in_features=3211264, out_features=6, bias=True)\n",
      ")\n"
     ]
    }
   ],
   "source": [
    "# Define your model\n",
    "model = PlayerTrackingModel(input_channels=3, num_classes=6)  # Update input_channels and num_classes\n",
    "# model = YOLO(num_classes=5, pretrained=True)  # Use the appropriate number of classes (80 for COCO)\n",
    "print(model)\n",
    "\n",
    "optimizer = optim.SGD(model.parameters(), lr=0.001)\n",
    "criterion = nn.MSELoss()"
   ]
  },
  {
   "cell_type": "code",
   "execution_count": 113,
   "metadata": {},
   "outputs": [
    {
     "name": "stdout",
     "output_type": "stream",
     "text": [
      "C:/Users/User/Desktop/UoM 3rd Year Project/Code/Football-Player-Detection-Demo-1/train\n",
      "C:/Users/User/Desktop/UoM 3rd Year Project/Code/Football-Player-Detection-Demo-1/valid\n",
      "C:/Users/User/Desktop/UoM 3rd Year Project/Code/Football-Player-Detection-Demo-1/test\n"
     ]
    }
   ],
   "source": [
    "# Specify the directory structure\n",
    "base_data_dir = 'C:/Users/User/Desktop/UoM 3rd Year Project/Code/Football-Player-Detection-Demo-1'  # Update to the actual path\n",
    "train_data_dir = 'C:/Users/User/Desktop/UoM 3rd Year Project/Code/Football-Player-Detection-Demo-1/train'\n",
    "valid_data_dir = 'C:/Users/User/Desktop/UoM 3rd Year Project/Code/Football-Player-Detection-Demo-1/valid'\n",
    "test_data_dir = 'C:/Users/User/Desktop/UoM 3rd Year Project/Code/Football-Player-Detection-Demo-1/test'\n",
    "\n",
    "print(train_data_dir)\n",
    "print(valid_data_dir)\n",
    "print(test_data_dir)"
   ]
  },
  {
   "cell_type": "code",
   "execution_count": 114,
   "metadata": {},
   "outputs": [
    {
     "name": "stdout",
     "output_type": "stream",
     "text": [
      "Number of Classes: 0\n",
      "<__main__.CustomObjectDetectionDataset object at 0x0000028C1C0004D0>\n",
      "<__main__.CustomObjectDetectionDataset object at 0x0000028C2144C190>\n",
      "<__main__.CustomObjectDetectionDataset object at 0x0000028C1D8EAB90>\n"
     ]
    }
   ],
   "source": [
    "# Define data loaders for training, validation, and test sets\n",
    "train_dataset = CustomObjectDetectionDataset(train_data_dir)\n",
    "print(\"Number of Classes:\", train_dataset.get_num_classes())\n",
    "\n",
    "valid_dataset = CustomObjectDetectionDataset(valid_data_dir)\n",
    "test_dataset = CustomObjectDetectionDataset(test_data_dir)\n",
    "\n",
    "print(train_dataset)\n",
    "print(valid_dataset)\n",
    "print(test_dataset)"
   ]
  },
  {
   "cell_type": "code",
   "execution_count": 115,
   "metadata": {},
   "outputs": [
    {
     "name": "stderr",
     "output_type": "stream",
     "text": [
      "c:\\Users\\User\\AppData\\Local\\Programs\\Python\\Python311\\Lib\\site-packages\\torch\\nn\\modules\\loss.py:535: UserWarning: Using a target size (torch.Size([10, 5])) that is different to the input size (torch.Size([1, 6])). This will likely lead to incorrect results due to broadcasting. Please ensure they have the same size.\n",
      "  return F.mse_loss(input, target, reduction=self.reduction)\n"
     ]
    },
    {
     "ename": "RuntimeError",
     "evalue": "The size of tensor a (6) must match the size of tensor b (5) at non-singleton dimension 1",
     "output_type": "error",
     "traceback": [
      "\u001b[1;31m---------------------------------------------------------------------------\u001b[0m",
      "\u001b[1;31mRuntimeError\u001b[0m                              Traceback (most recent call last)",
      "\u001b[1;32mc:\\Users\\User\\Desktop\\UoM 3rd Year Project\\Code\\main.ipynb Cell 8\u001b[0m line \u001b[0;36m2\n\u001b[0;32m     <a href='vscode-notebook-cell:/c%3A/Users/User/Desktop/UoM%203rd%20Year%20Project/Code/main.ipynb#X10sZmlsZQ%3D%3D?line=26'>27</a>\u001b[0m         annotations \u001b[39m=\u001b[39m annotations\u001b[39m.\u001b[39mfloat() \n\u001b[0;32m     <a href='vscode-notebook-cell:/c%3A/Users/User/Desktop/UoM%203rd%20Year%20Project/Code/main.ipynb#X10sZmlsZQ%3D%3D?line=27'>28</a>\u001b[0m         output \u001b[39m=\u001b[39m model(frame_tensor)\n\u001b[1;32m---> <a href='vscode-notebook-cell:/c%3A/Users/User/Desktop/UoM%203rd%20Year%20Project/Code/main.ipynb#X10sZmlsZQ%3D%3D?line=28'>29</a>\u001b[0m         loss \u001b[39m=\u001b[39m criterion(output, annotations)\n\u001b[0;32m     <a href='vscode-notebook-cell:/c%3A/Users/User/Desktop/UoM%203rd%20Year%20Project/Code/main.ipynb#X10sZmlsZQ%3D%3D?line=29'>30</a>\u001b[0m         valid_loss \u001b[39m+\u001b[39m\u001b[39m=\u001b[39m loss\u001b[39m.\u001b[39mitem()\n\u001b[0;32m     <a href='vscode-notebook-cell:/c%3A/Users/User/Desktop/UoM%203rd%20Year%20Project/Code/main.ipynb#X10sZmlsZQ%3D%3D?line=31'>32</a>\u001b[0m \u001b[39mprint\u001b[39m(\u001b[39mf\u001b[39m\u001b[39m'\u001b[39m\u001b[39mEpoch \u001b[39m\u001b[39m{\u001b[39;00mepoch\u001b[39m \u001b[39m\u001b[39m+\u001b[39m\u001b[39m \u001b[39m\u001b[39m1\u001b[39m\u001b[39m}\u001b[39;00m\u001b[39m, Train Loss: \u001b[39m\u001b[39m{\u001b[39;00mrunning_loss\u001b[39m \u001b[39m\u001b[39m/\u001b[39m\u001b[39m \u001b[39m\u001b[39mlen\u001b[39m(train_dataset)\u001b[39m}\u001b[39;00m\u001b[39m, Validation Loss: \u001b[39m\u001b[39m{\u001b[39;00mvalid_loss\u001b[39m \u001b[39m\u001b[39m/\u001b[39m\u001b[39m \u001b[39m\u001b[39mlen\u001b[39m(valid_dataset)\u001b[39m}\u001b[39;00m\u001b[39m'\u001b[39m)\n",
      "File \u001b[1;32mc:\\Users\\User\\AppData\\Local\\Programs\\Python\\Python311\\Lib\\site-packages\\torch\\nn\\modules\\module.py:1518\u001b[0m, in \u001b[0;36mModule._wrapped_call_impl\u001b[1;34m(self, *args, **kwargs)\u001b[0m\n\u001b[0;32m   1516\u001b[0m     \u001b[39mreturn\u001b[39;00m \u001b[39mself\u001b[39m\u001b[39m.\u001b[39m_compiled_call_impl(\u001b[39m*\u001b[39margs, \u001b[39m*\u001b[39m\u001b[39m*\u001b[39mkwargs)  \u001b[39m# type: ignore[misc]\u001b[39;00m\n\u001b[0;32m   1517\u001b[0m \u001b[39melse\u001b[39;00m:\n\u001b[1;32m-> 1518\u001b[0m     \u001b[39mreturn\u001b[39;00m \u001b[39mself\u001b[39;49m\u001b[39m.\u001b[39;49m_call_impl(\u001b[39m*\u001b[39;49margs, \u001b[39m*\u001b[39;49m\u001b[39m*\u001b[39;49mkwargs)\n",
      "File \u001b[1;32mc:\\Users\\User\\AppData\\Local\\Programs\\Python\\Python311\\Lib\\site-packages\\torch\\nn\\modules\\module.py:1527\u001b[0m, in \u001b[0;36mModule._call_impl\u001b[1;34m(self, *args, **kwargs)\u001b[0m\n\u001b[0;32m   1522\u001b[0m \u001b[39m# If we don't have any hooks, we want to skip the rest of the logic in\u001b[39;00m\n\u001b[0;32m   1523\u001b[0m \u001b[39m# this function, and just call forward.\u001b[39;00m\n\u001b[0;32m   1524\u001b[0m \u001b[39mif\u001b[39;00m \u001b[39mnot\u001b[39;00m (\u001b[39mself\u001b[39m\u001b[39m.\u001b[39m_backward_hooks \u001b[39mor\u001b[39;00m \u001b[39mself\u001b[39m\u001b[39m.\u001b[39m_backward_pre_hooks \u001b[39mor\u001b[39;00m \u001b[39mself\u001b[39m\u001b[39m.\u001b[39m_forward_hooks \u001b[39mor\u001b[39;00m \u001b[39mself\u001b[39m\u001b[39m.\u001b[39m_forward_pre_hooks\n\u001b[0;32m   1525\u001b[0m         \u001b[39mor\u001b[39;00m _global_backward_pre_hooks \u001b[39mor\u001b[39;00m _global_backward_hooks\n\u001b[0;32m   1526\u001b[0m         \u001b[39mor\u001b[39;00m _global_forward_hooks \u001b[39mor\u001b[39;00m _global_forward_pre_hooks):\n\u001b[1;32m-> 1527\u001b[0m     \u001b[39mreturn\u001b[39;00m forward_call(\u001b[39m*\u001b[39;49margs, \u001b[39m*\u001b[39;49m\u001b[39m*\u001b[39;49mkwargs)\n\u001b[0;32m   1529\u001b[0m \u001b[39mtry\u001b[39;00m:\n\u001b[0;32m   1530\u001b[0m     result \u001b[39m=\u001b[39m \u001b[39mNone\u001b[39;00m\n",
      "File \u001b[1;32mc:\\Users\\User\\AppData\\Local\\Programs\\Python\\Python311\\Lib\\site-packages\\torch\\nn\\modules\\loss.py:535\u001b[0m, in \u001b[0;36mMSELoss.forward\u001b[1;34m(self, input, target)\u001b[0m\n\u001b[0;32m    534\u001b[0m \u001b[39mdef\u001b[39;00m \u001b[39mforward\u001b[39m(\u001b[39mself\u001b[39m, \u001b[39minput\u001b[39m: Tensor, target: Tensor) \u001b[39m-\u001b[39m\u001b[39m>\u001b[39m Tensor:\n\u001b[1;32m--> 535\u001b[0m     \u001b[39mreturn\u001b[39;00m F\u001b[39m.\u001b[39;49mmse_loss(\u001b[39minput\u001b[39;49m, target, reduction\u001b[39m=\u001b[39;49m\u001b[39mself\u001b[39;49m\u001b[39m.\u001b[39;49mreduction)\n",
      "File \u001b[1;32mc:\\Users\\User\\AppData\\Local\\Programs\\Python\\Python311\\Lib\\site-packages\\torch\\nn\\functional.py:3328\u001b[0m, in \u001b[0;36mmse_loss\u001b[1;34m(input, target, size_average, reduce, reduction)\u001b[0m\n\u001b[0;32m   3325\u001b[0m \u001b[39mif\u001b[39;00m size_average \u001b[39mis\u001b[39;00m \u001b[39mnot\u001b[39;00m \u001b[39mNone\u001b[39;00m \u001b[39mor\u001b[39;00m reduce \u001b[39mis\u001b[39;00m \u001b[39mnot\u001b[39;00m \u001b[39mNone\u001b[39;00m:\n\u001b[0;32m   3326\u001b[0m     reduction \u001b[39m=\u001b[39m _Reduction\u001b[39m.\u001b[39mlegacy_get_string(size_average, reduce)\n\u001b[1;32m-> 3328\u001b[0m expanded_input, expanded_target \u001b[39m=\u001b[39m torch\u001b[39m.\u001b[39;49mbroadcast_tensors(\u001b[39minput\u001b[39;49m, target)\n\u001b[0;32m   3329\u001b[0m \u001b[39mreturn\u001b[39;00m torch\u001b[39m.\u001b[39m_C\u001b[39m.\u001b[39m_nn\u001b[39m.\u001b[39mmse_loss(expanded_input, expanded_target, _Reduction\u001b[39m.\u001b[39mget_enum(reduction))\n",
      "File \u001b[1;32mc:\\Users\\User\\AppData\\Local\\Programs\\Python\\Python311\\Lib\\site-packages\\torch\\functional.py:73\u001b[0m, in \u001b[0;36mbroadcast_tensors\u001b[1;34m(*tensors)\u001b[0m\n\u001b[0;32m     71\u001b[0m \u001b[39mif\u001b[39;00m has_torch_function(tensors):\n\u001b[0;32m     72\u001b[0m     \u001b[39mreturn\u001b[39;00m handle_torch_function(broadcast_tensors, tensors, \u001b[39m*\u001b[39mtensors)\n\u001b[1;32m---> 73\u001b[0m \u001b[39mreturn\u001b[39;00m _VF\u001b[39m.\u001b[39;49mbroadcast_tensors(tensors)\n",
      "\u001b[1;31mRuntimeError\u001b[0m: The size of tensor a (6) must match the size of tensor b (5) at non-singleton dimension 1"
     ]
    }
   ],
   "source": [
    "# Training and validation loop\n",
    "num_epochs = 10\n",
    "\n",
    "for epoch in range(num_epochs):\n",
    "    model.train()\n",
    "    running_loss = 0.0\n",
    "    for frame, annotations in train_dataset:\n",
    "        optimizer.zero_grad()\n",
    "        frame = preprocess_frame(frame)\n",
    "        frame_tensor = torch.from_numpy(frame).permute(2, 0, 1).unsqueeze(0).float()\n",
    "        annotations = annotations.float() \n",
    "        with torch.no_grad():\n",
    "            expected_output = model(frame_tensor)\n",
    "        output = model(frame_tensor)\n",
    "        loss = criterion(output, expected_output)\n",
    "        loss.backward()\n",
    "        optimizer.step()\n",
    "        running_loss += loss.item()\n",
    "    \n",
    "    # Validation loop\n",
    "    model.eval()\n",
    "    with torch.no_grad():\n",
    "        valid_loss = 0.0\n",
    "        for frame, annotations in valid_dataset:\n",
    "            frame = preprocess_frame(frame)\n",
    "            frame_tensor = torch.from_numpy(frame).permute(2, 0, 1).unsqueeze(0).float()\n",
    "            annotations = annotations.float() \n",
    "            output = model(frame_tensor)\n",
    "            loss = criterion(output, annotations)\n",
    "            valid_loss += loss.item()\n",
    "    \n",
    "    print(f'Epoch {epoch + 1}, Train Loss: {running_loss / len(train_dataset)}, Validation Loss: {valid_loss / len(valid_dataset)}')\n"
   ]
  },
  {
   "cell_type": "code",
   "execution_count": null,
   "metadata": {},
   "outputs": [
    {
     "name": "stdout",
     "output_type": "stream",
     "text": [
      "Test Loss: 1.3685657183329265\n"
     ]
    },
    {
     "name": "stderr",
     "output_type": "stream",
     "text": [
      "c:\\Users\\User\\AppData\\Local\\Programs\\Python\\Python311\\Lib\\site-packages\\torch\\nn\\modules\\loss.py:535: UserWarning: Using a target size (torch.Size([15, 5])) that is different to the input size (torch.Size([1, 5])). This will likely lead to incorrect results due to broadcasting. Please ensure they have the same size.\n",
      "  return F.mse_loss(input, target, reduction=self.reduction)\n",
      "c:\\Users\\User\\AppData\\Local\\Programs\\Python\\Python311\\Lib\\site-packages\\torch\\nn\\modules\\loss.py:535: UserWarning: Using a target size (torch.Size([7, 5])) that is different to the input size (torch.Size([1, 5])). This will likely lead to incorrect results due to broadcasting. Please ensure they have the same size.\n",
      "  return F.mse_loss(input, target, reduction=self.reduction)\n",
      "c:\\Users\\User\\AppData\\Local\\Programs\\Python\\Python311\\Lib\\site-packages\\torch\\nn\\modules\\loss.py:535: UserWarning: Using a target size (torch.Size([3, 5])) that is different to the input size (torch.Size([1, 5])). This will likely lead to incorrect results due to broadcasting. Please ensure they have the same size.\n",
      "  return F.mse_loss(input, target, reduction=self.reduction)\n"
     ]
    }
   ],
   "source": [
    "# Testing loop\n",
    "model.eval()\n",
    "with torch.no_grad():\n",
    "    test_loss = 0.0\n",
    "    for frame, annotations in test_dataset:\n",
    "        frame = preprocess_frame(frame)\n",
    "        frame_tensor = torch.from_numpy(frame).permute(2, 0, 1).unsqueeze(0).float()\n",
    "        annotations = annotations.float() \n",
    "        output = model(frame_tensor)\n",
    "        loss = criterion(output, annotations)\n",
    "        test_loss += loss.item()\n",
    "    print(f'Test Loss: {test_loss / len(test_dataset)}')"
   ]
  },
  {
   "cell_type": "code",
   "execution_count": null,
   "metadata": {},
   "outputs": [],
   "source": [
    "# Save the trained model\n",
    "torch.save(model.state_dict(), 'your_trained_model_weights.pth')"
   ]
  },
  {
   "cell_type": "code",
   "execution_count": null,
   "metadata": {},
   "outputs": [],
   "source": [
    "# Import necessary libraries\n",
    "import cv2\n",
    "import torch\n",
    "import numpy as np\n",
    "\n",
    "# Load your trained model and define preprocessing function\n",
    "# (Assuming you have a PlayerTrackingModel and preprocess_frame function)\n",
    "model = PlayerTrackingModel(input_channels=3, num_classes=5)\n",
    "model.load_state_dict(torch.load('your_trained_model_weights.pth'))\n",
    "model.eval()\n",
    "\n",
    "def preprocess_frame(frame, target_size=(224, 224)):\n",
    "    # Resize the frame to the target size\n",
    "    frame = cv2.resize(frame, target_size)\n",
    "    \n",
    "    # Normalize the pixel values to the range [0, 1]\n",
    "    frame = frame.astype(np.float32) / 255.0\n",
    "    \n",
    "    return frame\n",
    "\n",
    "# Define a function for object detection and tracking on a single frame\n",
    "def detect_and_track(frame):\n",
    "    frame = preprocess_frame(frame)\n",
    "    frame_tensor = torch.from_numpy(frame).permute(2, 0, 1).unsqueeze(0).float()\n",
    "    with torch.no_grad():\n",
    "        output = model(frame_tensor)\n",
    "    \n",
    "    # Assuming the model's output is a list of tensors, where each tensor represents detections for one class\n",
    "    # Modify this part according to your model's output format\n",
    "    all_boxes = output  # This should be a list of tensors\n",
    "    confidence_threshold = 0.5  # You can adjust the confidence threshold\n",
    "    \n",
    "    # Initialize lists to store bounding boxes and class IDs\n",
    "    all_bounding_boxes = []\n",
    "    all_class_ids = []\n",
    "    \n",
    "    for boxes in all_boxes:\n",
    "        # Extract bounding box coordinates\n",
    "        bounding_boxes = boxes[..., :4]\n",
    "        \n",
    "        # Extract class probabilities\n",
    "        class_probs = boxes[..., 4:]\n",
    "        \n",
    "        # Filter boxes based on confidence threshold\n",
    "        mask = class_probs.max(-1).values > confidence_threshold\n",
    "        filtered_boxes = bounding_boxes[mask]\n",
    "        filtered_class_probs = class_probs[mask]\n",
    "        \n",
    "        all_bounding_boxes.append(filtered_boxes)\n",
    "        all_class_ids.append(filtered_class_probs.argmax(-1).int())\n",
    "    \n",
    "    # Draw bounding boxes and labels on the frame\n",
    "    for boxes, class_ids in zip(all_bounding_boxes, all_class_ids):\n",
    "        for i in range(boxes.shape[0]):\n",
    "            x_min, y_min, x_max, y_max = boxes[i]\n",
    "            class_id = class_ids[i].item()\n",
    "            \n",
    "            # Draw the bounding box\n",
    "            cv2.rectangle(frame, (int(x_min), int(y_min)), (int(x_max), int(y_max)), (0, 255, 0), 2)\n",
    "            \n",
    "            # Add label with the class name (replace this with your actual class labels)\n",
    "            label = f\"Class {class_id}\"\n",
    "            cv2.putText(frame, label, (int(x_min), int(y_min) - 10), cv2.FONT_HERSHEY_SIMPLEX, 0.5, (0, 255, 0), 2)\n",
    "    \n",
    "    return frame  # Modified frame with bounding boxes and labels\n",
    "\n",
    "# Open the input video file\n",
    "input_video_path = 'videos/input.mp4'\n",
    "cap = cv2.VideoCapture(input_video_path)\n",
    "\n",
    "# Get video properties\n",
    "frame_width = int(cap.get(3))\n",
    "frame_height = int(cap.get(4))\n",
    "output_video_path = 'output_video.mp4'\n",
    "\n",
    "# Define the codec and create a VideoWriter object\n",
    "fourcc = cv2.VideoWriter_fourcc(*'mp4v')  # You can change the codec as needed\n",
    "out = cv2.VideoWriter(output_video_path, fourcc, 30, (frame_width, frame_height))\n",
    "\n",
    "while True:\n",
    "    ret, frame = cap.read()\n",
    "    if not ret:\n",
    "        break\n",
    "\n",
    "    # Process the frame for object detection and tracking\n",
    "    modified_frame = detect_and_track(frame)\n",
    "\n",
    "    # Write the modified frame to the output video\n",
    "    out.write(modified_frame)\n",
    "\n",
    "# Release the VideoCapture and VideoWriter objects\n",
    "cap.release()\n",
    "out.release()\n"
   ]
  },
  {
   "cell_type": "code",
   "execution_count": null,
   "metadata": {},
   "outputs": [],
   "source": [
    "# !pip install roboflow\n",
    "\n",
    "# from roboflow import Roboflow\n",
    "# rf = Roboflow(api_key=\"qNiuOYka1Vr6TV3WENNV\")\n",
    "# project = rf.workspace(\"the-university-of-manchester-8ax5n\").project(\"football-player-detection-demo\")\n",
    "# dataset = project.version(1).download(\"yolov5\")\n",
    "\n",
    "# curl -L \"https://app.roboflow.com/ds/XCxReYRR3H?key=K8XiEXrZz5\" &gt; roboflow.zip; unzip roboflow.zip; rm roboflow.zip\n",
    "\n",
    "# https://app.roboflow.com/ds/XCxReYRR3H?key=K8XiEXrZz5"
   ]
  }
 ],
 "metadata": {
  "kernelspec": {
   "display_name": "Python 3",
   "language": "python",
   "name": "python3"
  },
  "language_info": {
   "codemirror_mode": {
    "name": "ipython",
    "version": 3
   },
   "file_extension": ".py",
   "mimetype": "text/x-python",
   "name": "python",
   "nbconvert_exporter": "python",
   "pygments_lexer": "ipython3",
   "version": "3.11.2"
  }
 },
 "nbformat": 4,
 "nbformat_minor": 2
}
